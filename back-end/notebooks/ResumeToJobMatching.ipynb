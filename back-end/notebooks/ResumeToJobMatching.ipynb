{
 "cells": [
  {
   "cell_type": "code",
   "execution_count": null,
   "metadata": {},
   "outputs": [],
   "source": [
    "import PyPDF2\n",
    "from sklearn.feature_extraction.text import TfidfVectorizer\n",
    "from sklearn.metrics.pairwise import cosine_similarity\n",
    "import re\n",
    "\n",
    "def extract_text_from_pdf(pdf_path):\n",
    "    with open(pdf_path, 'rb') as file:\n",
    "        reader = PyPDF2.PdfReader(file)\n",
    "        text = ''\n",
    "        for page in reader.pages:\n",
    "            text += page.extract_text()\n",
    "    return text\n",
    "\n",
    "def preprocess_text(text):\n",
    "    # Convert to lowercase and remove special characters\n",
    "    text = re.sub(r'[^\\w\\s]', '', text.lower())\n",
    "    return text\n",
    "\n",
    "def calculate_similarity(text1, text2):\n",
    "    vectorizer = TfidfVectorizer()\n",
    "    tfidf_matrix = vectorizer.fit_transform([text1, text2])\n",
    "    return cosine_similarity(tfidf_matrix[0:1], tfidf_matrix[1:2])[0][0]\n",
    "\n",
    "def is_resume_good_fit(resume_path, job_description, threshold=0.3):\n",
    "    resume_text = extract_text_from_pdf(resume_path)\n",
    "    \n",
    "    processed_resume = preprocess_text(resume_text)\n",
    "    processed_job_description = preprocess_text(job_description)\n",
    "    \n",
    "    similarity_score = calculate_similarity(processed_resume, processed_job_description)\n",
    "    \n",
    "    is_good_fit = similarity_score >= threshold\n",
    "    \n",
    "    return is_good_fit, similarity_score\n",
    "\n",
    "# Example usage\n",
    "resume_path = '/Users/sakshigupta/Desktop/FYP/AI-RecruitmentTool/back-end/resumes/sample.pdf'\n",
    "job_description = \"\"\"\n",
    "We are looking for a Python developer with experience in web development,\n",
    "data analysis, and machine learning. The ideal candidate should have strong\n",
    "problem-solving skills and be familiar with frameworks like Django or Flask.\n",
    "\"\"\"\n",
    "\n",
    "is_fit, score = is_resume_good_fit(resume_path, job_description)\n",
    "print(f\"Is the resume a good fit? {'Yes' if is_fit else 'No'}\")\n",
    "print(f\"Similarity score: {score:.2f}\")"
   ]
  },
  {
   "cell_type": "code",
   "execution_count": null,
   "metadata": {},
   "outputs": [],
   "source": []
  }
 ],
 "metadata": {
  "kernelspec": {
   "display_name": "rough",
   "language": "python",
   "name": "python3"
  },
  "language_info": {
   "name": "python",
   "version": "3.12.3"
  }
 },
 "nbformat": 4,
 "nbformat_minor": 2
}

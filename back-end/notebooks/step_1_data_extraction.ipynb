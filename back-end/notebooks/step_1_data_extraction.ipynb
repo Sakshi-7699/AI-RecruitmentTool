{
 "cells": [
  {
   "cell_type": "markdown",
   "id": "d49cffd2-cdf7-41ea-a83e-df7a7294620c",
   "metadata": {
    "tags": []
   },
   "source": [
    "### Imports"
   ]
  },
  {
   "cell_type": "code",
   "execution_count": 2,
   "id": "1f822d0f-724c-4807-9a59-8538229a89f7",
   "metadata": {
    "tags": []
   },
   "outputs": [],
   "source": [
    "import os\n",
    "import re\n",
    "# import PyPDF2\n",
    "import pdfplumber\n",
    "import pandas as pd\n",
    "import numpy as np"
   ]
  },
  {
   "cell_type": "markdown",
   "id": "7353e195-38d8-4481-8157-c755ab0fca0e",
   "metadata": {
    "tags": []
   },
   "source": [
    "### Function to extract text from PDFs "
   ]
  },
  {
   "cell_type": "code",
   "execution_count": 3,
   "id": "8173983a-12f3-4822-9aa7-b45318c9b22a",
   "metadata": {
    "tags": []
   },
   "outputs": [],
   "source": [
    "# Define a function to extract information from a PDF\n",
    "def extract_information(pdf_path):\n",
    "    with pdfplumber.open(pdf_path) as pdf:\n",
    "        resume_text = \"\"\n",
    "        for page in pdf.pages:\n",
    "            resume_text = \" \".join([resume_text, page.extract_text()])\n",
    "    resume_text = resume_text.strip()\n",
    "    return resume_text"
   ]
  },
  {
   "cell_type": "markdown",
   "id": "d40dfae8-f8b9-4751-859a-04b17eaf50cc",
   "metadata": {
    "tags": []
   },
   "source": [
    "### Defining Regex to extract Skills & Education from extracted resume text"
   ]
  },
  {
   "cell_type": "code",
   "execution_count": 4,
   "id": "ba743403-abf0-4790-b288-6d23ee111fe2",
   "metadata": {},
   "outputs": [],
   "source": [
    "# Define a function to extract Skills, and Education\n",
    "def extract_details(resume_text):\n",
    "    # Define regular expressions to extract Skills & Education\n",
    "    skills_pattern = r'Skills\\n([\\s\\S]*?)(?=\\n[A-Z]|$)' \n",
    "    education_pattern = r'Education\\n([\\s\\S]*?)(?=\\n[A-Z][a-z]*\\n|$)'\n",
    "    \n",
    "    # Get Skills & Education\n",
    "    skills_match = re.findall(skills_pattern, resume_text, re.DOTALL)\n",
    "    education_match = re.findall(education_pattern, resume_text, re.DOTALL)\n",
    "    \n",
    "    # Skills & Education\n",
    "    if len(skills_match)!=0:\n",
    "        skills = skills_match[0]\n",
    "    else:\n",
    "        skills_pattern = r'skills\\n((?:.*)*)' \n",
    "        skills_match = re.findall(skills_pattern, resume_text, re.DOTALL)\n",
    "        if len(skills_match)!=0:\n",
    "            skills = skills_match[0]\n",
    "        else:\n",
    "            skills = None\n",
    "            \n",
    "    if len(education_match)!=0:\n",
    "        education = education_match[0]\n",
    "    else:\n",
    "        education = None\n",
    "    \n",
    "    return {\n",
    "        'Skills': skills,\n",
    "        'Education': education\n",
    "    }"
   ]
  },
  {
   "cell_type": "markdown",
   "id": "88729de5-131f-4b18-92aa-28b849defa3e",
   "metadata": {
    "tags": []
   },
   "source": [
    "### Extracting CVs"
   ]
  },
  {
   "cell_type": "code",
   "execution_count": 5,
   "id": "f4aadfa6-7005-446b-8544-ce980691602a",
   "metadata": {
    "scrolled": true,
    "tags": []
   },
   "outputs": [
    {
     "name": "stdout",
     "output_type": "stream",
     "text": [
      "PDF Extraction Done!\n",
      "CPU times: user 21min 31s, sys: 3.75 s, total: 21min 35s\n",
      "Wall time: 21min 50s\n"
     ]
    }
   ],
   "source": [
    "%%time\n",
    "\n",
    "data_folder = 'data'\n",
    "resume_data = []\n",
    "\n",
    "# Iterate through sub-folders and PDF files\n",
    "for category_folder in os.listdir(data_folder):\n",
    "    category_path = os.path.join(data_folder, category_folder)\n",
    "    if os.path.isdir(category_path):\n",
    "        for pdf_file in os.listdir(category_path):\n",
    "            if pdf_file.endswith('.pdf'):\n",
    "                pdf_path = os.path.join(category_path, pdf_file)\n",
    "                # print(pdf_path)\n",
    "                text = extract_information(pdf_path)\n",
    "                details = extract_details(text)\n",
    "                \n",
    "                # Adding Category & ID\n",
    "                details['ID'] = pdf_file.replace('.pdf', '')\n",
    "                details['Category'] = category_folder\n",
    "                \n",
    "                # print(f'File: [{pdf_path}]')\n",
    "                # print(details, end='\\n\\n')\n",
    "                resume_data.append(details)\n",
    "                \n",
    "print('PDF Extraction Done!')"
   ]
  },
  {
   "cell_type": "code",
   "execution_count": 6,
   "id": "0b464d07-4c1c-482e-963d-bee2017e0f6b",
   "metadata": {},
   "outputs": [],
   "source": [
    "resume_df = pd.DataFrame(resume_data)\n",
    "resume_df.to_csv('./pdf_extracted_skills_education.csv', index=False)"
   ]
  },
  {
   "cell_type": "code",
   "execution_count": 7,
   "id": "370c4203-c525-4cac-aad1-b843161f8d96",
   "metadata": {},
   "outputs": [
    {
     "data": {
      "text/plain": [
       "(2484, 4)"
      ]
     },
     "execution_count": 7,
     "metadata": {},
     "output_type": "execute_result"
    }
   ],
   "source": [
    "resume_df.shape"
   ]
  },
  {
   "cell_type": "code",
   "execution_count": null,
   "id": "31613917-f873-47dd-9dc8-4174125ddfaf",
   "metadata": {
    "tags": []
   },
   "outputs": [],
   "source": []
  },
  {
   "cell_type": "markdown",
   "id": "c3348774-c0f9-431d-901b-4a131016c0c0",
   "metadata": {},
   "source": [
    "### Analyzing Null Values"
   ]
  },
  {
   "cell_type": "code",
   "execution_count": 9,
   "id": "7d30658a-fdfb-43cf-8f27-9604b76430c0",
   "metadata": {
    "tags": []
   },
   "outputs": [
    {
     "data": {
      "text/plain": [
       "Skills        91\n",
       "Education    590\n",
       "ID             0\n",
       "Category       0\n",
       "dtype: int64"
      ]
     },
     "execution_count": 9,
     "metadata": {},
     "output_type": "execute_result"
    }
   ],
   "source": [
    "# Null values\n",
    "df = resume_df\n",
    "df.isna().sum()\n",
    "\n",
    "# It seems that Education was not extracted properly"
   ]
  },
  {
   "cell_type": "code",
   "execution_count": 10,
   "id": "2ebd1e3a-ded6-4f84-a3c6-5263d4fbf9d2",
   "metadata": {
    "tags": []
   },
   "outputs": [
    {
     "name": "stdout",
     "output_type": "stream",
     "text": [
      "     Skills Education        ID                Category\n",
      "141    None      None  14248724                    ARTS\n",
      "261    None      None  16280971                   SALES\n",
      "658    None      None  15499825              HEALTHCARE\n",
      "1201   None      None  29051656  INFORMATION-TECHNOLOGY\n",
      "1298   None      None  20237244  INFORMATION-TECHNOLOGY\n",
      "1525   None      None  14849103            CONSTRUCTION\n",
      "1554   None      None  14014749                DESIGNER\n",
      "1607   None      None  90066849                DESIGNER\n",
      "1758   None      None  17576030                 FITNESS\n",
      "1760   None      None  21178545                 FITNESS\n",
      "1828   None      None  77266989                 FITNESS\n",
      "1934   None      None  12632728    BUSINESS-DEVELOPMENT\n",
      "2082   None      None  31225895                 APPAREL\n",
      "2183   None      None  17021141                ADVOCATE\n",
      "2388   None      None  20566550             ENGINEERING\n"
     ]
    }
   ],
   "source": [
    "# We have 15 Resumes where Skills & Education were not extracted\n",
    "# So, let's remove them\n",
    "\n",
    "print(df[(df.Skills.isna() & df.Education.isna())])"
   ]
  },
  {
   "cell_type": "code",
   "execution_count": 11,
   "id": "f3f6b14a-0932-4478-b7a1-ee5fca64209c",
   "metadata": {
    "tags": []
   },
   "outputs": [
    {
     "name": "stdout",
     "output_type": "stream",
     "text": [
      "(2469, 4)\n"
     ]
    },
    {
     "data": {
      "text/html": [
       "<div>\n",
       "<style scoped>\n",
       "    .dataframe tbody tr th:only-of-type {\n",
       "        vertical-align: middle;\n",
       "    }\n",
       "\n",
       "    .dataframe tbody tr th {\n",
       "        vertical-align: top;\n",
       "    }\n",
       "\n",
       "    .dataframe thead th {\n",
       "        text-align: right;\n",
       "    }\n",
       "</style>\n",
       "<table border=\"1\" class=\"dataframe\">\n",
       "  <thead>\n",
       "    <tr style=\"text-align: right;\">\n",
       "      <th></th>\n",
       "      <th>Skills</th>\n",
       "      <th>Education</th>\n",
       "      <th>ID</th>\n",
       "      <th>Category</th>\n",
       "    </tr>\n",
       "  </thead>\n",
       "  <tbody>\n",
       "    <tr>\n",
       "      <th>0</th>\n",
       "      <td>Excellent classroom managementÂ</td>\n",
       "      <td>Subject Matter Authorization in Science: Scien...</td>\n",
       "      <td>37201447</td>\n",
       "      <td>AGRICULTURE</td>\n",
       "    </tr>\n",
       "    <tr>\n",
       "      <th>1</th>\n",
       "      <td>Team mediation, Budget Management, Delegation ...</td>\n",
       "      <td>2009 Howard University ï¼​ City , State , USA ...</td>\n",
       "      <td>12674256</td>\n",
       "      <td>AGRICULTURE</td>\n",
       "    </tr>\n",
       "    <tr>\n",
       "      <th>2</th>\n",
       "      <td>COMPUTER LITERACY, E-mail, English, government...</td>\n",
       "      <td>2011\\nThe Universty of Zambia ï¼​ City , State...</td>\n",
       "      <td>29968330</td>\n",
       "      <td>AGRICULTURE</td>\n",
       "    </tr>\n",
       "    <tr>\n",
       "      <th>3</th>\n",
       "      <td>C, C++, communication skills, designing, ELISA...</td>\n",
       "      <td>Masters of Science , Biotechnology 5 2013 Univ...</td>\n",
       "      <td>81042872</td>\n",
       "      <td>AGRICULTURE</td>\n",
       "    </tr>\n",
       "    <tr>\n",
       "      <th>4</th>\n",
       "      <td>Data Entry, Printers, Clients, Loans, Tax Retu...</td>\n",
       "      <td>Wayne State University 2013 MBA : Linguistics ...</td>\n",
       "      <td>20006992</td>\n",
       "      <td>AGRICULTURE</td>\n",
       "    </tr>\n",
       "  </tbody>\n",
       "</table>\n",
       "</div>"
      ],
      "text/plain": [
       "                                              Skills  \\\n",
       "0                    Excellent classroom managementÂ   \n",
       "1  Team mediation, Budget Management, Delegation ...   \n",
       "2  COMPUTER LITERACY, E-mail, English, government...   \n",
       "3  C, C++, communication skills, designing, ELISA...   \n",
       "4  Data Entry, Printers, Clients, Loans, Tax Retu...   \n",
       "\n",
       "                                           Education        ID     Category  \n",
       "0  Subject Matter Authorization in Science: Scien...  37201447  AGRICULTURE  \n",
       "1  2009 Howard University ï¼​ City , State , USA ...  12674256  AGRICULTURE  \n",
       "2  2011\\nThe Universty of Zambia ï¼​ City , State...  29968330  AGRICULTURE  \n",
       "3  Masters of Science , Biotechnology 5 2013 Univ...  81042872  AGRICULTURE  \n",
       "4  Wayne State University 2013 MBA : Linguistics ...  20006992  AGRICULTURE  "
      ]
     },
     "execution_count": 11,
     "metadata": {},
     "output_type": "execute_result"
    }
   ],
   "source": [
    "# We are left with 2469 resumes after removing those 15 resumes with null data in both of them\n",
    "\n",
    "print(df[~(df['Skills'].isna() & df['Education'].isna())].shape)\n",
    "\n",
    "cv_df = df[~(df['Skills'].isna() & df['Education'].isna())].reset_index(drop=True)\n",
    "cv_df.head()"
   ]
  },
  {
   "cell_type": "code",
   "execution_count": 12,
   "id": "bd4850ee-243f-40bb-bda6-a4328c9a9908",
   "metadata": {
    "tags": []
   },
   "outputs": [
    {
     "data": {
      "text/plain": [
       "Skills        76\n",
       "Education    575\n",
       "ID             0\n",
       "Category       0\n",
       "dtype: int64"
      ]
     },
     "execution_count": 12,
     "metadata": {},
     "output_type": "execute_result"
    }
   ],
   "source": [
    "# New number of null values in Skills & Education Section\n",
    "cv_df.isna().sum()"
   ]
  },
  {
   "cell_type": "code",
   "execution_count": 13,
   "id": "4b215337-ae9a-4d8e-a290-9bc4bbb8092e",
   "metadata": {
    "tags": []
   },
   "outputs": [
    {
     "data": {
      "text/html": [
       "<div>\n",
       "<style scoped>\n",
       "    .dataframe tbody tr th:only-of-type {\n",
       "        vertical-align: middle;\n",
       "    }\n",
       "\n",
       "    .dataframe tbody tr th {\n",
       "        vertical-align: top;\n",
       "    }\n",
       "\n",
       "    .dataframe thead th {\n",
       "        text-align: right;\n",
       "    }\n",
       "</style>\n",
       "<table border=\"1\" class=\"dataframe\">\n",
       "  <thead>\n",
       "    <tr style=\"text-align: right;\">\n",
       "      <th></th>\n",
       "      <th>Skills</th>\n",
       "      <th>Education</th>\n",
       "      <th>ID</th>\n",
       "      <th>Category</th>\n",
       "    </tr>\n",
       "  </thead>\n",
       "  <tbody>\n",
       "    <tr>\n",
       "      <th>34</th>\n",
       "      <td>None</td>\n",
       "      <td>Bachelor of Arts : Criminal Justice California...</td>\n",
       "      <td>27689009</td>\n",
       "      <td>AGRICULTURE</td>\n",
       "    </tr>\n",
       "    <tr>\n",
       "      <th>51</th>\n",
       "      <td>None</td>\n",
       "      <td>Ph.D : Soil, Water and Environmental Science 2...</td>\n",
       "      <td>24001783</td>\n",
       "      <td>AGRICULTURE</td>\n",
       "    </tr>\n",
       "    <tr>\n",
       "      <th>61</th>\n",
       "      <td>None</td>\n",
       "      <td>Master : Accounting (GPA 3.7) , 2009 McCombs S...</td>\n",
       "      <td>56068028</td>\n",
       "      <td>AGRICULTURE</td>\n",
       "    </tr>\n",
       "    <tr>\n",
       "      <th>69</th>\n",
       "      <td>None</td>\n",
       "      <td>2014\\nBachelor of Science : Recording Arts Ful...</td>\n",
       "      <td>66226673</td>\n",
       "      <td>ARTS</td>\n",
       "    </tr>\n",
       "    <tr>\n",
       "      <th>80</th>\n",
       "      <td>None</td>\n",
       "      <td>Association Youth Art Month Exhibition, Young ...</td>\n",
       "      <td>11555549</td>\n",
       "      <td>ARTS</td>\n",
       "    </tr>\n",
       "    <tr>\n",
       "      <th>...</th>\n",
       "      <td>...</td>\n",
       "      <td>...</td>\n",
       "      <td>...</td>\n",
       "      <td>...</td>\n",
       "    </tr>\n",
       "    <tr>\n",
       "      <th>2331</th>\n",
       "      <td>None</td>\n",
       "      <td>Bachelor of Science : Electrical and Computer ...</td>\n",
       "      <td>12748557</td>\n",
       "      <td>ENGINEERING</td>\n",
       "    </tr>\n",
       "    <tr>\n",
       "      <th>2346</th>\n",
       "      <td>None</td>\n",
       "      <td>Ph. D : Mechanical Engineering , April, 2015 U...</td>\n",
       "      <td>35172961</td>\n",
       "      <td>ENGINEERING</td>\n",
       "    </tr>\n",
       "    <tr>\n",
       "      <th>2362</th>\n",
       "      <td>None</td>\n",
       "      <td>Graduate Certificate : Project Management 2010...</td>\n",
       "      <td>28631840</td>\n",
       "      <td>ENGINEERING</td>\n",
       "    </tr>\n",
       "    <tr>\n",
       "      <th>2371</th>\n",
       "      <td>None</td>\n",
       "      <td>Master of Science : Mechanical Engineering Dec...</td>\n",
       "      <td>77828437</td>\n",
       "      <td>ENGINEERING</td>\n",
       "    </tr>\n",
       "    <tr>\n",
       "      <th>2449</th>\n",
       "      <td>None</td>\n",
       "      <td>Associate of Arts , Business Management 2010 U...</td>\n",
       "      <td>17571262</td>\n",
       "      <td>AUTOMOBILE</td>\n",
       "    </tr>\n",
       "  </tbody>\n",
       "</table>\n",
       "<p>76 rows × 4 columns</p>\n",
       "</div>"
      ],
      "text/plain": [
       "     Skills                                          Education        ID  \\\n",
       "34     None  Bachelor of Arts : Criminal Justice California...  27689009   \n",
       "51     None  Ph.D : Soil, Water and Environmental Science 2...  24001783   \n",
       "61     None  Master : Accounting (GPA 3.7) , 2009 McCombs S...  56068028   \n",
       "69     None  2014\\nBachelor of Science : Recording Arts Ful...  66226673   \n",
       "80     None  Association Youth Art Month Exhibition, Young ...  11555549   \n",
       "...     ...                                                ...       ...   \n",
       "2331   None  Bachelor of Science : Electrical and Computer ...  12748557   \n",
       "2346   None  Ph. D : Mechanical Engineering , April, 2015 U...  35172961   \n",
       "2362   None  Graduate Certificate : Project Management 2010...  28631840   \n",
       "2371   None  Master of Science : Mechanical Engineering Dec...  77828437   \n",
       "2449   None  Associate of Arts , Business Management 2010 U...  17571262   \n",
       "\n",
       "         Category  \n",
       "34    AGRICULTURE  \n",
       "51    AGRICULTURE  \n",
       "61    AGRICULTURE  \n",
       "69           ARTS  \n",
       "80           ARTS  \n",
       "...           ...  \n",
       "2331  ENGINEERING  \n",
       "2346  ENGINEERING  \n",
       "2362  ENGINEERING  \n",
       "2371  ENGINEERING  \n",
       "2449   AUTOMOBILE  \n",
       "\n",
       "[76 rows x 4 columns]"
      ]
     },
     "execution_count": 13,
     "metadata": {},
     "output_type": "execute_result"
    }
   ],
   "source": [
    "# Null values in Skills Section\n",
    "cv_df[cv_df.Skills.isna()]"
   ]
  },
  {
   "cell_type": "code",
   "execution_count": 14,
   "id": "b5b41e30-bc4b-4d4d-a946-49dafe207994",
   "metadata": {
    "tags": []
   },
   "outputs": [
    {
     "data": {
      "text/html": [
       "<div>\n",
       "<style scoped>\n",
       "    .dataframe tbody tr th:only-of-type {\n",
       "        vertical-align: middle;\n",
       "    }\n",
       "\n",
       "    .dataframe tbody tr th {\n",
       "        vertical-align: top;\n",
       "    }\n",
       "\n",
       "    .dataframe thead th {\n",
       "        text-align: right;\n",
       "    }\n",
       "</style>\n",
       "<table border=\"1\" class=\"dataframe\">\n",
       "  <thead>\n",
       "    <tr style=\"text-align: right;\">\n",
       "      <th></th>\n",
       "      <th>Skills</th>\n",
       "      <th>Education</th>\n",
       "      <th>ID</th>\n",
       "      <th>Category</th>\n",
       "    </tr>\n",
       "  </thead>\n",
       "  <tbody>\n",
       "    <tr>\n",
       "      <th>12</th>\n",
       "      <td>Time Management</td>\n",
       "      <td>None</td>\n",
       "      <td>28165687</td>\n",
       "      <td>AGRICULTURE</td>\n",
       "    </tr>\n",
       "    <tr>\n",
       "      <th>16</th>\n",
       "      <td>Deep expertise in designing,developing,\\nimple...</td>\n",
       "      <td>None</td>\n",
       "      <td>11813872</td>\n",
       "      <td>AGRICULTURE</td>\n",
       "    </tr>\n",
       "    <tr>\n",
       "      <th>22</th>\n",
       "      <td>Customer service, art, clerical, doors, specia...</td>\n",
       "      <td>None</td>\n",
       "      <td>79536879</td>\n",
       "      <td>AGRICULTURE</td>\n",
       "    </tr>\n",
       "    <tr>\n",
       "      <th>29</th>\n",
       "      <td>Production and Processing Â Basic computer skills</td>\n",
       "      <td>None</td>\n",
       "      <td>16849128</td>\n",
       "      <td>AGRICULTURE</td>\n",
       "    </tr>\n",
       "    <tr>\n",
       "      <th>31</th>\n",
       "      <td>Strong interpersonal skills</td>\n",
       "      <td>None</td>\n",
       "      <td>38216888</td>\n",
       "      <td>AGRICULTURE</td>\n",
       "    </tr>\n",
       "    <tr>\n",
       "      <th>...</th>\n",
       "      <td>...</td>\n",
       "      <td>...</td>\n",
       "      <td>...</td>\n",
       "      <td>...</td>\n",
       "    </tr>\n",
       "    <tr>\n",
       "      <th>2458</th>\n",
       "      <td>vehicle repairs, database, inventory, marketin...</td>\n",
       "      <td>None</td>\n",
       "      <td>16332293</td>\n",
       "      <td>AUTOMOBILE</td>\n",
       "    </tr>\n",
       "    <tr>\n",
       "      <th>2460</th>\n",
       "      <td>Professional and friendly.Careful and active l...</td>\n",
       "      <td>None</td>\n",
       "      <td>23522150</td>\n",
       "      <td>AUTOMOBILE</td>\n",
       "    </tr>\n",
       "    <tr>\n",
       "      <th>2464</th>\n",
       "      <td>Claims file management processes</td>\n",
       "      <td>None</td>\n",
       "      <td>11257723</td>\n",
       "      <td>AUTOMOBILE</td>\n",
       "    </tr>\n",
       "    <tr>\n",
       "      <th>2465</th>\n",
       "      <td>Quality control Solid communication skills</td>\n",
       "      <td>None</td>\n",
       "      <td>11797122</td>\n",
       "      <td>AUTOMOBILE</td>\n",
       "    </tr>\n",
       "    <tr>\n",
       "      <th>2466</th>\n",
       "      <td>3D, assembly language, AutoCAD, automobiles, C...</td>\n",
       "      <td>None</td>\n",
       "      <td>22946204</td>\n",
       "      <td>AUTOMOBILE</td>\n",
       "    </tr>\n",
       "  </tbody>\n",
       "</table>\n",
       "<p>575 rows × 4 columns</p>\n",
       "</div>"
      ],
      "text/plain": [
       "                                                 Skills Education        ID  \\\n",
       "12                                      Time Management      None  28165687   \n",
       "16    Deep expertise in designing,developing,\\nimple...      None  11813872   \n",
       "22    Customer service, art, clerical, doors, specia...      None  79536879   \n",
       "29    Production and Processing Â Basic computer skills      None  16849128   \n",
       "31                          Strong interpersonal skills      None  38216888   \n",
       "...                                                 ...       ...       ...   \n",
       "2458  vehicle repairs, database, inventory, marketin...      None  16332293   \n",
       "2460  Professional and friendly.Careful and active l...      None  23522150   \n",
       "2464                   Claims file management processes      None  11257723   \n",
       "2465         Quality control Solid communication skills      None  11797122   \n",
       "2466  3D, assembly language, AutoCAD, automobiles, C...      None  22946204   \n",
       "\n",
       "         Category  \n",
       "12    AGRICULTURE  \n",
       "16    AGRICULTURE  \n",
       "22    AGRICULTURE  \n",
       "29    AGRICULTURE  \n",
       "31    AGRICULTURE  \n",
       "...           ...  \n",
       "2458   AUTOMOBILE  \n",
       "2460   AUTOMOBILE  \n",
       "2464   AUTOMOBILE  \n",
       "2465   AUTOMOBILE  \n",
       "2466   AUTOMOBILE  \n",
       "\n",
       "[575 rows x 4 columns]"
      ]
     },
     "execution_count": 14,
     "metadata": {},
     "output_type": "execute_result"
    }
   ],
   "source": [
    "# Null values in Education Section\n",
    "cv_df[cv_df.Education.isna()]"
   ]
  },
  {
   "cell_type": "markdown",
   "id": "6c41827c-6c44-412a-a905-13170bfc3ce7",
   "metadata": {},
   "source": [
    "### Distribution of Different Resumes"
   ]
  },
  {
   "cell_type": "code",
   "execution_count": 15,
   "id": "2f59603b-f3ff-4754-aad8-5207afffd8d8",
   "metadata": {
    "tags": []
   },
   "outputs": [
    {
     "data": {
      "text/plain": [
       "Category\n",
       "BUSINESS-DEVELOPMENT      119\n",
       "ACCOUNTANT                118\n",
       "FINANCE                   118\n",
       "CHEF                      118\n",
       "INFORMATION-TECHNOLOGY    118\n",
       "AVIATION                  117\n",
       "ADVOCATE                  117\n",
       "ENGINEERING               117\n",
       "BANKING                   115\n",
       "CONSULTANT                115\n",
       "SALES                     115\n",
       "HEALTHCARE                114\n",
       "FITNESS                   114\n",
       "PUBLIC-RELATIONS          111\n",
       "CONSTRUCTION              111\n",
       "HR                        110\n",
       "DESIGNER                  105\n",
       "TEACHER                   102\n",
       "ARTS                      102\n",
       "DIGITAL-MEDIA              96\n",
       "APPAREL                    96\n",
       "AGRICULTURE                63\n",
       "AUTOMOBILE                 36\n",
       "BPO                        22\n",
       "Name: count, dtype: int64"
      ]
     },
     "execution_count": 15,
     "metadata": {},
     "output_type": "execute_result"
    }
   ],
   "source": [
    "cv_df.Category.value_counts()"
   ]
  },
  {
   "cell_type": "code",
   "execution_count": 18,
   "id": "a774fe34-5085-4571-ab0e-6f1eacba44bc",
   "metadata": {
    "tags": []
   },
   "outputs": [
    {
     "data": {
      "image/png": "[encoded data removed]",
      "text/plain": [
       "<Figure size 800x800 with 1 Axes>"
      ]
     },
     "metadata": {},
     "output_type": "display_data"
    }
   ],
   "source": [
    "# We can see here the distribution of different CV categories\n",
    "import matplotlib.pyplot as plt\n",
    "plt.figure(figsize=(8,8))\n",
    "\n",
    "cv_df.Category.value_counts().plot(kind='barh')\n",
    "\n",
    "for index, value in enumerate(cv_df.Category.value_counts().values):\n",
    "    plt.text(value, index, str(value))\n",
    "    \n",
    "plt.show();"
   ]
  },
  {
   "cell_type": "code",
   "execution_count": null,
   "id": "695760da-bc0a-4d78-b7c5-2ab6a9de4c8f",
   "metadata": {
    "tags": []
   },
   "outputs": [
    {
     "data": {
      "text/plain": [
       "Skills        76\n",
       "Education    575\n",
       "ID             0\n",
       "Category       0\n",
       "dtype: int64"
      ]
     },
     "execution_count": 25,
     "metadata": {},
     "output_type": "execute_result"
    }
   ],
   "source": []
  },
  {
   "cell_type": "code",
   "execution_count": null,
   "id": "ccd1c447-0771-4d53-8d32-3bd08df04ff7",
   "metadata": {},
   "outputs": [],
   "source": []
  }
 ],
 "metadata": {
  "kernelspec": {
   "display_name": "Python 3 (ipykernel)",
   "language": "python",
   "name": "python3"
  },
  "language_info": {
   "codemirror_mode": {
    "name": "ipython",
    "version": 3
   },
   "file_extension": ".py",
   "mimetype": "text/x-python",
   "name": "python",
   "nbconvert_exporter": "python",
   "pygments_lexer": "ipython3",
   "version": "3.12.4"
  },
  "widgets": {
   "application/vnd.jupyter.widget-state+json": {
    "state": {},
    "version_major": 2,
    "version_minor": 0
   }
  }
 },
 "nbformat": 4,
 "nbformat_minor": 5
}

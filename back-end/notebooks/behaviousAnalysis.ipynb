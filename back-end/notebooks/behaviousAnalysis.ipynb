{
 "cells": [
  {
   "cell_type": "code",
   "execution_count": 1,
   "metadata": {},
   "outputs": [],
   "source": [
    "import PyPDF2\n",
    "import re\n",
    "\n",
    "resume_path = '/Users/sakshigupta/Desktop/FYP/AI-RecruitmentTool/back-end/data/sample.pdf'\n",
    "job_description = '/Users/sakshigupta/Desktop/FYP/AI-RecruitmentTool/back-end/data/job_description.txt'\n",
    "\n",
    "\n",
    "def preprocess_text(text):\n",
    "    # Convert to lowercase and remove special characters\n",
    "    text = re.sub(r'[^\\w\\s]', '', text.lower())\n",
    "    return text\n",
    "def extract_text_from_pdf(pdf_path):\n",
    "    with open(pdf_path, 'rb') as file:\n",
    "        reader = PyPDF2.PdfReader(file)\n",
    "        text = ''\n",
    "        for page in reader.pages:\n",
    "            text += page.extract_text()\n",
    "    return text\n",
    "\n",
    "def extract_data_from_text(file_path) :\n",
    "    file_contents =''\n",
    "    with open(file_path, 'r') as file:\n",
    "        file_contents = file.read()\n",
    "    return file_contents\n",
    "\n",
    "\n",
    "resume_text = extract_text_from_pdf(resume_path)\n",
    "job_description_text = extract_data_from_text(job_description)\n",
    "processed_resume = preprocess_text(resume_text)\n",
    "processed_job_description = preprocess_text(job_description_text)"
   ]
  },
  {
   "cell_type": "code",
   "execution_count": 2,
   "metadata": {},
   "outputs": [],
   "source": [
    "from transformers import pipeline\n",
    "\n",
    "# Load the model and tokenizer\n",
    "pipe = pipeline(model=\"facebook/bart-large-mnli\")\n",
    "\n",
    "# Save the model and tokenizer\n",
    "pipe.model.save_pretrained(\"saved_model\")\n",
    "pipe.tokenizer.save_pretrained(\"saved_model\")\n"
   ]
  },
  {
   "cell_type": "code",
   "execution_count": null,
   "metadata": {},
   "outputs": [],
   "source": [
    "from transformers import AutoModelForSequenceClassification, AutoTokenizer, pipeline\n",
    "\n",
    "# Load the model and tokenizer\n",
    "model = AutoModelForSequenceClassification.from_pretrained(\"saved_model\")\n",
    "tokenizer = AutoTokenizer.from_pretrained(\"saved_model\")\n",
    "\n",
    "# Create the pipeline\n",
    "pipe = pipeline(\"zero-shot-classification\", model=model, tokenizer=tokenizer)\n",
    "\n",
    "# Example usage\n",
    "response = pipe(processed_resume, candidate_labels=[\"confidence\", \"anger\"])\n",
    "\n",
    "# Process the results\n",
    "result = [(key, round(val * 100, 2)) for key, val in zip(response['labels'], response['scores'])]\n",
    "print(result)\n"
   ]
  }
 ],
 "metadata": {
  "kernelspec": {
   "display_name": "fyp_project",
   "language": "python",
   "name": "python3"
  },
  "language_info": {
   "codemirror_mode": {
    "name": "ipython",
    "version": 3
   },
   "file_extension": ".py",
   "mimetype": "text/x-python",
   "name": "python",
   "nbconvert_exporter": "python",
   "pygments_lexer": "ipython3",
   "version": "3.12.4"
  }
 },
 "nbformat": 4,
 "nbformat_minor": 2
}
